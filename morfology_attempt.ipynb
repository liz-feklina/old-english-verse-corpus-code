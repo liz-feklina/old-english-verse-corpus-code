{
 "cells": [
  {
   "cell_type": "markdown",
   "metadata": {},
   "source": [
    "Нужно собрать выборку разборов"
   ]
  },
  {
   "cell_type": "code",
   "execution_count": 1,
   "metadata": {},
   "outputs": [],
   "source": [
    "import requests\n",
    "from bs4 import BeautifulSoup\n",
    "from tqdm import tqdm_notebook as tqdm\n",
    "import re"
   ]
  },
  {
   "cell_type": "markdown",
   "metadata": {},
   "source": [
    "Получаем все ссылки:"
   ]
  },
  {
   "cell_type": "code",
   "execution_count": 2,
   "metadata": {},
   "outputs": [
    {
     "name": "stdout",
     "output_type": "stream",
     "text": [
      "346 ссылок нашлось\n",
      "['http://people.ucalgary.ca/~mmcgilli/ASPR/a3.34.4.html', 'http://people.ucalgary.ca/~mmcgilli/ASPR/a3.34.5.html', 'http://people.ucalgary.ca/~mmcgilli/ASPR/a3.34.6.html', 'http://people.ucalgary.ca/~mmcgilli/ASPR/a3.34.7.html', 'http://people.ucalgary.ca/~mmcgilli/ASPR/a3.34.8.html', 'http://people.ucalgary.ca/~mmcgilli/ASPR/a3.34.9.html', 'http://people.ucalgary.ca/~mmcgilli/ASPR/a3.34.10.html', 'http://people.ucalgary.ca/~mmcgilli/ASPR/a3.34.11.html', 'http://people.ucalgary.ca/~mmcgilli/ASPR/a3.34.12.html', 'http://people.ucalgary.ca/~mmcgilli/ASPR/a3.34.13.html']\n"
     ]
    }
   ],
   "source": [
    "page_links = ['http://people.ucalgary.ca/~mmcgilli/OEPoetry/beo-ms.html',\n",
    "              'http://people.ucalgary.ca/~mmcgilli/OEPoetry/junius.html',\n",
    "              'http://people.ucalgary.ca/~mmcgilli/OEPoetry/exeter.html',\n",
    "              'http://people.ucalgary.ca/~mmcgilli/OEPoetry/vercelli.html',\n",
    "              'http://people.ucalgary.ca/~mmcgilli/OEPoetry/parisps.html',\n",
    "              'http://people.ucalgary.ca/~mmcgilli/OEPoetry/boethius.html',\n",
    "              'http://people.ucalgary.ca/~mmcgilli/OEPoetry/minor-poems.html']\n",
    "\n",
    "def get_links(page_links):\n",
    "    links = []\n",
    "    for link in page_links:\n",
    "        response = requests.get(link)\n",
    "        html_content = response.text\n",
    "        soup = BeautifulSoup(html_content, 'html.parser')\n",
    "        wrong_links = soup.find_all('a', {'class': 'labyrinth'})\n",
    "        for w_link in  wrong_links:\n",
    "            links.append('http://people.ucalgary.ca/~mmcgilli' + w_link.attrs['href'][2:])\n",
    "    return links\n",
    "\n",
    "all_links = get_links(page_links)\n",
    "\n",
    "print(len(all_links), 'ссылок нашлось')\n",
    "print(all_links[100:110])"
   ]
  },
  {
   "cell_type": "markdown",
   "metadata": {},
   "source": [
    "Функция получения текста произведения по ссылке."
   ]
  },
  {
   "cell_type": "code",
   "execution_count": 3,
   "metadata": {},
   "outputs": [],
   "source": [
    "def get_text(link):\n",
    "    response = requests.get(link)\n",
    "    html_content = response.text\n",
    "    soup = BeautifulSoup(html_content, 'html.parser')\n",
    "    result = re.search(r'<dl(.|\\n)+</dl>', str(soup))\n",
    "    html_text = result.group(0)\n",
    "    soup_text = BeautifulSoup(html_text, 'html.parser')\n",
    "    text = soup_text.text\n",
    "    return text"
   ]
  },
  {
   "cell_type": "markdown",
   "metadata": {},
   "source": [
    "Проверка"
   ]
  },
  {
   "cell_type": "code",
   "execution_count": 4,
   "metadata": {},
   "outputs": [
    {
     "data": {
      "text/plain": [
       "'\\n\\n\\nðeos lyft byreð  \\xa0 \\xa0 \\xa0 \\xa0  lytle wihte  \\nofer beorghleoþa.  \\xa0 \\xa0 \\xa0 \\xa0  þa sind blace swiþe,  \\nswearte salopade.  \\xa0 \\xa0 \\xa0 \\xa0  Sanges rope  \\nheapum ferað,  \\xa0 \\xa0 \\xa0 \\xa0  hlude cirmað,  \\n\\n5\\n\\ntredað bearonæssas,  \\xa0 \\xa0 \\xa0 \\xa0  hwilum burgsalo  \\nniþþa bearna.  \\xa0 \\xa0 \\xa0 \\xa0  Nemnað hy sylfe.  \\n\\n'"
      ]
     },
     "execution_count": 4,
     "metadata": {},
     "output_type": "execute_result"
    }
   ],
   "source": [
    "get_text('http://people.ucalgary.ca/~mmcgilli/ASPR/a3.22.57.html')"
   ]
  },
  {
   "cell_type": "markdown",
   "metadata": {},
   "source": [
    "Функция из тетрадки Bede Parser, отправляющая запрос парсеру (но возвращается для удобства только список разборов):"
   ]
  },
  {
   "cell_type": "code",
   "execution_count": 5,
   "metadata": {},
   "outputs": [],
   "source": [
    "def analyze(word):\n",
    "    url = 'https://www.bede.net/cgi-bin/parserDublin/parse_dublin.cgi'\n",
    "    data = {'sen': word}\n",
    "    html_content = requests.post(url, data).text\n",
    "    soup = BeautifulSoup(html_content, 'html.parser')\n",
    "    \n",
    "    word = soup.find('td', {'valign': 'top'}).text\n",
    "    a = word.split('\\n')\n",
    "    #print(a)\n",
    "    word = a[0]\n",
    "    options = [option[:-2] for option in a[1].split(':')]\n",
    "    \n",
    "    final = soup.find('td', {'bgcolor': '#ffff80'}).text\n",
    "    word_par = {'word': word,\n",
    "                'options': options,\n",
    "                'final': final}\n",
    "    return options"
   ]
  },
  {
   "cell_type": "markdown",
   "metadata": {},
   "source": [
    "Проверка"
   ]
  },
  {
   "cell_type": "code",
   "execution_count": 6,
   "metadata": {
    "scrolled": true
   },
   "outputs": [
    {
     "name": "stdout",
     "output_type": "stream",
     "text": [
      "['N S M NOM S', 'N S M ACC S', 'N S N NOM S', 'N S N ACC S', 'N S N NOM PL', 'N S N ACC PL', 'ADJ S M NOM S', 'ADJ S N NOM S', 'ADJ S N ACC S', '']\n"
     ]
    }
   ],
   "source": [
    "print(analyze('god'))"
   ]
  },
  {
   "cell_type": "markdown",
   "metadata": {},
   "source": [
    "Параметр для проверки (чтобы цикл шёл не по всем ссылкам, а по одной)"
   ]
  },
  {
   "cell_type": "code",
   "execution_count": 7,
   "metadata": {},
   "outputs": [],
   "source": [
    "all_links = ['http://people.ucalgary.ca/~mmcgilli/ASPR/a5.59.html']"
   ]
  },
  {
   "cell_type": "markdown",
   "metadata": {},
   "source": [
    "Проходим по ссылкам, делим текст на слова, для каждого слова добавляем его разборы в список"
   ]
  },
  {
   "cell_type": "code",
   "execution_count": 8,
   "metadata": {},
   "outputs": [
    {
     "name": "stderr",
     "output_type": "stream",
     "text": [
      "<ipython-input-8-ab8b5264434e>:3: TqdmDeprecationWarning: This function will be removed in tqdm==5.0.0\n",
      "Please use `tqdm.notebook.tqdm` instead of `tqdm.tqdm_notebook`\n",
      "  for link in tqdm(all_links):\n"
     ]
    },
    {
     "data": {
      "application/vnd.jupyter.widget-view+json": {
       "model_id": "762cf3c0cb234d91a117da7e4a304a0f",
       "version_major": 2,
       "version_minor": 0
      },
      "text/plain": [
       "HBox(children=(HTML(value=''), FloatProgress(value=0.0, max=1.0), HTML(value='')))"
      ]
     },
     "metadata": {},
     "output_type": "display_data"
    },
    {
     "name": "stderr",
     "output_type": "stream",
     "text": [
      "<ipython-input-8-ab8b5264434e>:5: TqdmDeprecationWarning: This function will be removed in tqdm==5.0.0\n",
      "Please use `tqdm.notebook.tqdm` instead of `tqdm.tqdm_notebook`\n",
      "  for word in tqdm(text.split()):\n"
     ]
    },
    {
     "data": {
      "application/vnd.jupyter.widget-view+json": {
       "model_id": "2e1003df46004abeb26f3a527369cab4",
       "version_major": 2,
       "version_minor": 0
      },
      "text/plain": [
       "HBox(children=(HTML(value=''), FloatProgress(value=0.0, max=219.0), HTML(value='')))"
      ]
     },
     "metadata": {},
     "output_type": "display_data"
    },
    {
     "name": "stdout",
     "output_type": "stream",
     "text": [
      "\n",
      "\n"
     ]
    }
   ],
   "source": [
    "all_options = []\n",
    "mess = []\n",
    "for link in tqdm(all_links):\n",
    "    text = get_text(link)\n",
    "    for word in tqdm(text.split()):\n",
    "        #print(word)\n",
    "        if word.isalpha():\n",
    "            opts = analyze(word)\n",
    "            mess.extend(opts)\n",
    "            for opt in opts:\n",
    "                for part in opt.split():\n",
    "                    if part not in all_options:\n",
    "                        all_options.append(part)"
   ]
  },
  {
   "cell_type": "markdown",
   "metadata": {},
   "source": [
    "all_options - все уникальные глоссы\n",
    "\n",
    "mess - все разборы"
   ]
  },
  {
   "cell_type": "code",
   "execution_count": 9,
   "metadata": {},
   "outputs": [
    {
     "name": "stdout",
     "output_type": "stream",
     "text": [
      "['N', 'S', 'F', 'NOM', 'PL']\n",
      "['N S F NOM S', 'N S N NOM PL', 'N S N ACC PL', 'ADJ S F NOM S', 'ADJ S N NOM PL']\n"
     ]
    }
   ],
   "source": [
    "print(all_options[:5])\n",
    "print(mess[:5])"
   ]
  },
  {
   "cell_type": "markdown",
   "metadata": {},
   "source": [
    "Записываем в текстовый файл"
   ]
  },
  {
   "cell_type": "code",
   "execution_count": 10,
   "metadata": {},
   "outputs": [],
   "source": [
    "a = ['a', '4', '5']\n",
    "with open(\"morf_parts.txt\", \"w\", encoding=\"utf-8\") as f:\n",
    "    for x in all_options:\n",
    "        f.write(x)\n",
    "        f.write('\\n')\n",
    "with open(\"morf_mess.txt\", \"w\", encoding=\"utf-8\") as f:\n",
    "    for x in mess:\n",
    "        f.write(x)\n",
    "        f.write('\\n') "
   ]
  }
 ],
 "metadata": {
  "kernelspec": {
   "display_name": "Python 3",
   "language": "python",
   "name": "python3"
  },
  "language_info": {
   "codemirror_mode": {
    "name": "ipython",
    "version": 3
   },
   "file_extension": ".py",
   "mimetype": "text/x-python",
   "name": "python",
   "nbconvert_exporter": "python",
   "pygments_lexer": "ipython3",
   "version": "3.8.2"
  }
 },
 "nbformat": 4,
 "nbformat_minor": 4
}
