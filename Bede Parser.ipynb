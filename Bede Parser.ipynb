{
 "cells": [
  {
   "cell_type": "markdown",
   "metadata": {},
   "source": [
    "Сайт: https://www.bede.net/misc/dublin/parse.html"
   ]
  },
  {
   "cell_type": "code",
   "execution_count": 1,
   "metadata": {},
   "outputs": [],
   "source": [
    "import requests\n",
    "from bs4 import BeautifulSoup\n",
    "import re\n",
    "import stringгло\n",
    "import os\n",
    "from tqdm import tqdm"
   ]
  },
  {
   "cell_type": "markdown",
   "metadata": {},
   "source": [
    "Сравнение результатов, которые он выдаёт, когда ищешь одно слово и когда ищешь предложение"
   ]
  },
  {
   "cell_type": "code",
   "execution_count": 2,
   "metadata": {},
   "outputs": [
    {
     "name": "stdout",
     "output_type": "stream",
     "text": [
      "True\n"
     ]
    }
   ],
   "source": [
    "a = \"PRP ACCDAT 5:N S M NOM S 2:N S M ACC S 2:N S N NOM S 2:N S N ACC S 2:N S N NOM PL 2:N S N ACC PL 2:ADJ S M NOM S 2:ADJ S N NOM S 2:ADJ S N ACC S 2:V 1 P PRT IND 4:V 2 P PRT IND 4:V 3 P PRT IND 4:\"\n",
    "b = \"PRP ACCDAT 5:N S M NOM S 2:N S M ACC S 2:N S N NOM S 2:N S N ACC S 2:N S N NOM PL 2:N S N ACC PL 2:ADJ S M NOM S 2:ADJ S N NOM S 2:ADJ S N ACC S 2:V 1 P PRT IND 4:V 2 P PRT IND 4:V 3 P PRT IND 4:\"\n",
    "print(a==b)"
   ]
  },
  {
   "cell_type": "markdown",
   "metadata": {},
   "source": [
    "То есть при анализе слов он не опирается на контекст"
   ]
  },
  {
   "cell_type": "markdown",
   "metadata": {},
   "source": [
    "Функция, которая отправляет запрос в форму:"
   ]
  },
  {
   "cell_type": "code",
   "execution_count": 3,
   "metadata": {},
   "outputs": [],
   "source": [
    "def analyze(word):\n",
    "    url = 'https://www.bede.net/cgi-bin/parserDublin/parse_dublin.cgi'\n",
    "    data = {'sen': word}\n",
    "    html_content = requests.post(url, data).text\n",
    "    soup = BeautifulSoup(html_content, 'html.parser')\n",
    "    \n",
    "    word = soup.find('td', {'valign': 'top'}).text\n",
    "    a = word.split('\\n')\n",
    "    word = a[0]\n",
    "    options = a[1].split(':')[:-1]\n",
    "    \n",
    "    final = soup.find('td', {'bgcolor': '#ffff80'}).text\n",
    "    word_par = {'word': word,\n",
    "                'options': options,\n",
    "                'final': final}\n",
    "    return word_par\n",
    "\n",
    "ana_dict = analyze('us')"
   ]
  },
  {
   "cell_type": "markdown",
   "metadata": {},
   "source": [
    "Проверка:"
   ]
  },
  {
   "cell_type": "code",
   "execution_count": 4,
   "metadata": {
    "scrolled": true
   },
   "outputs": [
    {
     "data": {
      "text/plain": [
       "{'word': 'us',\n",
       " 'options': ['PRN PERS 1 ACC PL 5',\n",
       "  'PRN PERS 1 DAT PL 5',\n",
       "  'N S M NOM S 2',\n",
       "  'N S M ACC S 2',\n",
       "  'N S N NOM S 2',\n",
       "  'N S N ACC S 2',\n",
       "  'N S N NOM PL 2',\n",
       "  'N S N ACC PL 2',\n",
       "  'ADJ S M NOM S 2',\n",
       "  'ADJ S N NOM S 2',\n",
       "  'ADJ S N ACC S 2'],\n",
       " 'final': ' PRN PERS 1 DAT PL   '}"
      ]
     },
     "execution_count": 4,
     "metadata": {},
     "output_type": "execute_result"
    }
   ],
   "source": [
    "ana_dict"
   ]
  },
  {
   "cell_type": "code",
   "execution_count": 5,
   "metadata": {},
   "outputs": [
    {
     "data": {
      "text/plain": [
       "{'word': 'we',\n",
       " 'options': ['PRN PERS 1 NOM PL 5'],\n",
       " 'final': ' PRN PERS 1 NOM PL   '}"
      ]
     },
     "execution_count": 5,
     "metadata": {},
     "output_type": "execute_result"
    }
   ],
   "source": [
    "analyze('we')"
   ]
  },
  {
   "cell_type": "markdown",
   "metadata": {},
   "source": [
    "Перевод в формат через запятую, очистка глосс"
   ]
  },
  {
   "cell_type": "code",
   "execution_count": 6,
   "metadata": {},
   "outputs": [],
   "source": [
    "def form_new_ana(ana):\n",
    "    if '5N' in ana:\n",
    "        return 'NUM'\n",
    "    else:\n",
    "        ana = ana[:-2]\n",
    "    ana = ana.replace(' P ', ' PL ')\n",
    "    ana = ana.replace('UNDECL', 'UNDCL')\n",
    "    ana = ana.replace('ACCPL', 'ACC PL')\n",
    "    ana = re.sub('(\\d+)([SP])', r'\\1 \\2', ana)\n",
    "    ana_list = ana.split(' ')\n",
    "    if ana_list[0] == 'N':\n",
    "        ana_list[0] = 'NOUN'\n",
    "    if (ana_list[0] == 'NOUN' or ana_list[0] == 'ADJ') and ana_list[1] == 'S':\n",
    "        ana_list[1] = 'STR'\n",
    "    new_ana = ','.join(ana_list)\n",
    "    return new_ana"
   ]
  },
  {
   "cell_type": "markdown",
   "metadata": {},
   "source": [
    "Проверка"
   ]
  },
  {
   "cell_type": "code",
   "execution_count": 7,
   "metadata": {},
   "outputs": [
    {
     "name": "stdout",
     "output_type": "stream",
     "text": [
      "NOUN,STR,M,NOM,S\n",
      "V,1,S,PRES,IND\n",
      "V,MODAL,1,P\n"
     ]
    }
   ],
   "source": [
    "print(form_new_ana('N S M NOM S 2'))\n",
    "print(form_new_ana('V 1 S PRES IND 2'))\n",
    "print(form_new_ana('V MODAL 1P 5'))"
   ]
  },
  {
   "cell_type": "markdown",
   "metadata": {},
   "source": [
    "Перевод в формат xml_rnc (для слова)"
   ]
  },
  {
   "cell_type": "code",
   "execution_count": 8,
   "metadata": {},
   "outputs": [],
   "source": [
    "def convert_word(ana_dict):\n",
    "    ana_parts = []\n",
    "    for ana in ana_dict['options']:\n",
    "        new_ana = form_new_ana(ana)\n",
    "        ana_parts.append('<ana gr=\\\"'+new_ana+'\\\"></ana>')\n",
    "    conv_form = '<w>' + ''.join(ana_parts) + ana_dict['word'] + '</w>'\n",
    "    return conv_form"
   ]
  },
  {
   "cell_type": "markdown",
   "metadata": {},
   "source": [
    "Проверка"
   ]
  },
  {
   "cell_type": "code",
   "execution_count": 9,
   "metadata": {},
   "outputs": [
    {
     "data": {
      "text/plain": [
       "'<w><ana gr=\"PRN,PERS,1,ACC,PL\"></ana><ana gr=\"PRN,PERS,1,DAT,PL\"></ana><ana gr=\"NOUN,STR,M,NOM,S\"></ana><ana gr=\"NOUN,STR,M,ACC,S\"></ana><ana gr=\"NOUN,STR,N,NOM,S\"></ana><ana gr=\"NOUN,STR,N,ACC,S\"></ana><ana gr=\"NOUN,STR,N,NOM,PL\"></ana><ana gr=\"NOUN,STR,N,ACC,PL\"></ana><ana gr=\"ADJ,STR,M,NOM,S\"></ana><ana gr=\"ADJ,STR,N,NOM,S\"></ana><ana gr=\"ADJ,STR,N,ACC,S\"></ana>us</w>'"
      ]
     },
     "execution_count": 9,
     "metadata": {},
     "output_type": "execute_result"
    }
   ],
   "source": [
    "convert_word(ana_dict)"
   ]
  },
  {
   "cell_type": "markdown",
   "metadata": {},
   "source": [
    "Перевод в формат xml_rnc (для всего текста)"
   ]
  },
  {
   "cell_type": "code",
   "execution_count": 10,
   "metadata": {},
   "outputs": [],
   "source": [
    "def xml_rnc(filename):\n",
    "    with open(filename, 'r', encoding='utf-8') as f, open(filename[:-4] + '.xml', 'w', encoding='utf-8') as a:\n",
    "        text = f.readlines()\n",
    "        new_text = '<html><head></head><body><p>'\n",
    "        for line in text:\n",
    "            line = line.replace('\\n', '')\n",
    "            if line != '':\n",
    "                if line.isdigit():\n",
    "                    new_line = '</p><p>'\n",
    "                    print(new_line)\n",
    "                else:\n",
    "                    new_line = re.sub('(\\w+)', lambda x: convert_word(analyze(x.group())), line)\n",
    "                    new_line = '<se>'+new_line+'</se>'\n",
    "                    #new_line = re.sub('^\\d+$', r'</p><p>', new_line)\n",
    "                    new_text += new_line\n",
    "        new_text += '</p></body></html>'\n",
    "        a.write(new_text)"
   ]
  },
  {
   "cell_type": "markdown",
   "metadata": {},
   "source": [
    "Проверка"
   ]
  },
  {
   "cell_type": "code",
   "execution_count": 11,
   "metadata": {},
   "outputs": [],
   "source": [
    "#xml_rnc('Soul and Body I.txt')"
   ]
  },
  {
   "cell_type": "markdown",
   "metadata": {},
   "source": [
    "Цикл по файлам в папке, конвертирование в нужный формат"
   ]
  },
  {
   "cell_type": "code",
   "execution_count": 12,
   "metadata": {
    "scrolled": false
   },
   "outputs": [
    {
     "name": "stderr",
     "output_type": "stream",
     "text": [
      "100%|██████████████████████████████████████████████████████████████████████████████████████████| 11/11 [00:00<?, ?it/s]\n"
     ]
    }
   ],
   "source": [
    "start_path = \".\"\n",
    "for filename in tqdm(sorted(os.listdir(start_path))):\n",
    "    if filename.endswith('.txt'):\n",
    "        xml_rnc(filename)"
   ]
  }
 ],
 "metadata": {
  "kernelspec": {
   "display_name": "Python 3",
   "language": "python",
   "name": "python3"
  },
  "language_info": {
   "codemirror_mode": {
    "name": "ipython",
    "version": 3
   },
   "file_extension": ".py",
   "mimetype": "text/x-python",
   "name": "python",
   "nbconvert_exporter": "python",
   "pygments_lexer": "ipython3",
   "version": "3.8.2"
  }
 },
 "nbformat": 4,
 "nbformat_minor": 4
}
