{
 "cells": [
  {
   "cell_type": "markdown",
   "metadata": {},
   "source": [
    "Программа, сохраняющая тексты из oepoetry"
   ]
  },
  {
   "cell_type": "code",
   "execution_count": 1,
   "metadata": {},
   "outputs": [],
   "source": [
    "import requests\n",
    "from bs4 import BeautifulSoup\n",
    "from tqdm import tqdm_notebook as tqdm\n",
    "import re"
   ]
  },
  {
   "cell_type": "markdown",
   "metadata": {},
   "source": [
    "Функция, выдающая список ссылок"
   ]
  },
  {
   "cell_type": "code",
   "execution_count": 2,
   "metadata": {},
   "outputs": [
    {
     "name": "stdout",
     "output_type": "stream",
     "text": [
      "346 ссылок нашлось\n",
      "['http://people.ucalgary.ca/~mmcgilli/ASPR/a3.34.4.html', 'http://people.ucalgary.ca/~mmcgilli/ASPR/a3.34.5.html', 'http://people.ucalgary.ca/~mmcgilli/ASPR/a3.34.6.html', 'http://people.ucalgary.ca/~mmcgilli/ASPR/a3.34.7.html', 'http://people.ucalgary.ca/~mmcgilli/ASPR/a3.34.8.html', 'http://people.ucalgary.ca/~mmcgilli/ASPR/a3.34.9.html', 'http://people.ucalgary.ca/~mmcgilli/ASPR/a3.34.10.html', 'http://people.ucalgary.ca/~mmcgilli/ASPR/a3.34.11.html', 'http://people.ucalgary.ca/~mmcgilli/ASPR/a3.34.12.html', 'http://people.ucalgary.ca/~mmcgilli/ASPR/a3.34.13.html']\n"
     ]
    }
   ],
   "source": [
    "page_links = ['http://people.ucalgary.ca/~mmcgilli/OEPoetry/beo-ms.html',\n",
    "              'http://people.ucalgary.ca/~mmcgilli/OEPoetry/junius.html',\n",
    "              'http://people.ucalgary.ca/~mmcgilli/OEPoetry/exeter.html',\n",
    "              'http://people.ucalgary.ca/~mmcgilli/OEPoetry/vercelli.html',\n",
    "              'http://people.ucalgary.ca/~mmcgilli/OEPoetry/parisps.html',\n",
    "              'http://people.ucalgary.ca/~mmcgilli/OEPoetry/boethius.html',\n",
    "              'http://people.ucalgary.ca/~mmcgilli/OEPoetry/minor-poems.html']\n",
    "\n",
    "def get_links(page_links):\n",
    "    links = []\n",
    "    for link in page_links:\n",
    "        response = requests.get(link)\n",
    "        html_content = response.text\n",
    "        soup = BeautifulSoup(html_content, 'html.parser')\n",
    "        wrong_links = soup.find_all('a', {'class': 'labyrinth'})\n",
    "        for w_link in  wrong_links:\n",
    "            links.append('http://people.ucalgary.ca/~mmcgilli' + w_link.attrs['href'][2:])\n",
    "    return links\n",
    "\n",
    "all_links = get_links(page_links)\n",
    "\n",
    "print(len(all_links), 'ссылок нашлось')\n",
    "print(all_links[100:110])"
   ]
  },
  {
   "cell_type": "markdown",
   "metadata": {},
   "source": [
    "Функция, достающая текст из сайта и записывающая в файл с соответствующим названием"
   ]
  },
  {
   "cell_type": "code",
   "execution_count": 3,
   "metadata": {},
   "outputs": [],
   "source": [
    "def get_text(link):\n",
    "    response = requests.get(link)\n",
    "    html_content = response.text\n",
    "    soup = BeautifulSoup(html_content, 'html.parser')\n",
    "    name = soup.title.string\n",
    "    print(name)\n",
    "    filename = name + '.txt'\n",
    "    result = re.search(r'<dl(.|\\n)+</dl>', str(soup))\n",
    "    html_text = result.group(0)\n",
    "    soup_text = BeautifulSoup(html_text, 'html.parser')\n",
    "    text = soup_text.text\n",
    "    #для записи в файл\n",
    "    with open(filename, 'w', encoding='utf-8') as f:\n",
    "        f.write(text)\n",
    "    return text"
   ]
  },
  {
   "cell_type": "markdown",
   "metadata": {},
   "source": [
    "Параметр для проверки (чтобы цикл шёл не по всем ссылкам, а по одной)"
   ]
  },
  {
   "cell_type": "code",
   "execution_count": 4,
   "metadata": {},
   "outputs": [],
   "source": [
    "all_links = ['http://people.ucalgary.ca/~mmcgilli/ASPR/a5.59.html']"
   ]
  },
  {
   "cell_type": "markdown",
   "metadata": {},
   "source": [
    "errors - список ссылок, с которыми возникла проблема при выделении текста"
   ]
  },
  {
   "cell_type": "code",
   "execution_count": 5,
   "metadata": {},
   "outputs": [
    {
     "name": "stderr",
     "output_type": "stream",
     "text": [
      "<ipython-input-5-73fbb5675f88>:2: TqdmDeprecationWarning: This function will be removed in tqdm==5.0.0\n",
      "Please use `tqdm.notebook.tqdm` instead of `tqdm.tqdm_notebook`\n",
      "  for link in tqdm(all_links):\n"
     ]
    },
    {
     "data": {
      "application/vnd.jupyter.widget-view+json": {
       "model_id": "434b344531244dc780426c2f3499a288",
       "version_major": 2,
       "version_minor": 0
      },
      "text/plain": [
       "HBox(children=(HTML(value=''), FloatProgress(value=0.0, max=1.0), HTML(value='')))"
      ]
     },
     "metadata": {},
     "output_type": "display_data"
    },
    {
     "name": "stdout",
     "output_type": "stream",
     "text": [
      "The Paris Psalter: Psalm 59\n",
      "\n"
     ]
    }
   ],
   "source": [
    "errors = []\n",
    "for link in tqdm(all_links):\n",
    "    try:\n",
    "        get_text(link)\n",
    "    except AttributeError:\n",
    "        print(link)\n",
    "        errors.append(link)"
   ]
  },
  {
   "cell_type": "markdown",
   "metadata": {},
   "source": [
    "Функция для парсинга двух ссылок с другой структурой html"
   ]
  },
  {
   "cell_type": "code",
   "execution_count": 6,
   "metadata": {},
   "outputs": [],
   "source": [
    "def get_text_2(link):\n",
    "    response = requests.get(link)\n",
    "    html_content = response.text\n",
    "    soup = BeautifulSoup(html_content, 'html.parser')\n",
    "    name = soup.title.string\n",
    "    print(name)\n",
    "    filename = name + '.txt'\n",
    "    result = re.search(r'<dl(.|\\n)+</dl>', str(soup))\n",
    "    html_text = result.group(0)\n",
    "    html_text = html_text.replace('<br/>', '\\n')\n",
    "    html_text = html_text.replace('</a>\\n', '</a> ')\n",
    "    html_text = html_text.replace('\\r\\n\\xa0\\xa0\\r\\n', '  ')\n",
    "    soup_text = BeautifulSoup(html_text, 'html.parser')\n",
    "    text = soup_text.text\n",
    "    #для записи в файл\n",
    "    with open(filename, 'w', encoding='utf-8') as f:\n",
    "        f.write(text)\n",
    "    return text"
   ]
  },
  {
   "cell_type": "code",
   "execution_count": 7,
   "metadata": {},
   "outputs": [
    {
     "name": "stdout",
     "output_type": "stream",
     "text": [
      "The Battle of Maldon\n",
      "The Dream of the Rood\n"
     ]
    },
    {
     "data": {
      "text/plain": [
       "'\\n\\n\\nHwæt! Ic swefna cyst \\xa0\\xa0\\nsecgan wylle,\\n\\n\\nhwæt† me gemætte \\xa0\\xa0\\nto midre nihte\\nsyðþan reordberend \\xa0\\xa0\\nreste wunedon.\\n\\n\\nÞuhte me þæt ic gesawe \\xa0\\xa0\\nsyllicre* treow \\n5\\n\\non lyft lædan, \\xa0\\xa0\\nleohte bewunden,\\nbeama beorhtost. \\xa0\\xa0\\nEall þæt beacen wæs\\nbegoten mid golde. \\xa0\\xa0\\nGimmas stodon\\nfægere æt foldan sceatum, \\xa0\\xa0\\nswylce þær fife wæron\\nuppe on þam eaxlgespanne. \\xa0\\xa0\\nBeheoldon þær engel dryhtnes* ealle \\n10\\n\\nfægere þurh forðgesceaft.* \\xa0\\xa0\\nNe wæs ðær huru fracodes gealga,\\n\\n\\nac hine þær beheoldon \\xa0\\xa0\\nhalige gastas,\\nmen ofer moldan, \\xa0\\xa0\\nond eall þeos mære gesceaft.\\nSyllic wæs se sigebeam, \\xa0\\xa0\\nond ic synnum fah,\\nforwunded mid wommum. \\xa0\\xa0\\nGeseah ic wuldres treow,\\n\\n15\\n\\nwædum geweorðode, \\xa0\\xa0\\nwynnum scinan,\\ngegyred mid golde; \\xa0\\xa0\\ngimmas hæfdon\\nbewrigene weorðlice \\xa0\\xa0\\nwealdendes† treow.\\nHwæðre ic þurh þæt gold \\xa0\\xa0\\nongytan meahte\\nearmra ærgewin,* \\n\\xa0\\xa0\\nþæt hit ærest ongan \\n20\\n\\nswætan on þa swiðran healfe. \\xa0\\xa0\\nEall ic wæs mid sorgum† gedrefed,\\nforht ic wæs for þære fægran gesyhðe. \\xa0\\xa0\\nGeseah ic þæt fuse beacen\\nwendan wædum ond bleom:\\n\\xa0\\xa0\\nhwilum hit wæs mid wætan bestemed,\\nbeswyled mid swates gange, \\xa0\\xa0\\nhwilum mid since gegyrwed.\\nHwæðre ic þær licgende \\xa0\\xa0\\nlange hwile \\n25\\n\\nbeheold hreowcearig \\xa0\\xa0\\nhælendes treow,\\n\\n\\noððæt ic gehyrde \\xa0\\xa0\\nþæt hit hleoðrode.\\nOngan þa word sprecan \\xa0\\xa0\\nwudu selesta:\\n\"Þæt wæs geara iu \\xa0\\xa0\\n(ic þæt gyta geman)\\nþæt ic wæs aheawen \\xa0\\xa0\\nholtes on ende, \\n30\\n\\nastyred of stefne minum. \\xa0\\xa0\\nGenaman me ðær strange feondas,\\ngeworhton him þær to wæfersyne,\\n\\xa0\\xa0\\nheton me heora wergas hebban.\\nBæron me ðær beornas on eaxlum, \\xa0\\xa0\\noððæt hie me on beorg asetton.\\n\\n\\n\\nGefæstnodon me þær feondas genoge. \\xa0\\xa0\\nGeseah ic þa frean mancynnes \\nefstan elne mycle—\\n\\xa0\\xa0\\nþæt he me wolde on gestigan. \\n35\\n\\nÞær ic þa ne dorste \\xa0\\xa0\\nofer dryhtnes word\\nbugan oððe berstan, \\xa0\\xa0\\nþa ic bifian geseah\\neorðan sceatas.\\n\\xa0\\xa0\\nEalle ic mihte\\nfeondas gefyllan, \\xa0\\xa0\\nhwæðre ic fæste stod.\\n\\n\\nOngyrede hine þa geong hæleð—\\n\\xa0\\xa0þæt wæs god ælmihtig—\\n\\n40\\n\\nstrang ond stiðmod. \\xa0\\xa0\\nGestah he on gealgan heanne,\\nmodig on manigra gesyhðe, \\xa0\\xa0\\nþa he wolde mancyn lysan.\\nBifode ic þa me se beorn ymbclypte.\\n\\xa0\\xa0\\nNe dorste ic hwæðre bugan to eorðan,\\nfeallan to foldan sceatum, \\xa0\\xa0\\nac ic sceolde fæste standan.\\nRod wæs ic aræred. \\xa0\\xa0\\nAhof ic ricne cyning, \\n45\\n\\nheofona hlaford. \\xa0\\xa0\\nHyldan me ne dorste.\\nÞurhdrifan hi me mid deorcan næglum—\\n\\xa0\\xa0\\non me syndon þa dolg gesiene,\\nopene inwidhlemmas. \\xa0\\xa0\\nNe dorste ic hira nænigum sceððan.\\nBysmeredon hie unc butu ætgædere. \\xa0\\xa0\\nEall ic wæs mid blode bestemed,\\n\\n\\nbegoten of þæs guman sidan,\\n\\xa0\\xa0\\nsiððan he hæfde his gast onsended. \\n50\\n\\nFeala ic on þam beorge \\xa0\\xa0\\ngebiden hæbbe\\nwraðra wyrda. \\xa0\\xa0\\nGeseah ic weruda god\\nþearle þenian.\\n\\xa0\\xa0\\nÞystro hæfdon\\nbewrigen mid wolcnum  \\xa0\\xa0\\nwealdendes hræw,\\n\\n\\nscirne sciman, \\xa0\\xa0\\nsceadu forð eode, \\n55\\n\\nwann under wolcnum. \\xa0\\xa0\\nWeop eal gesceaft,\\n\\n\\ncwiðdon cyninges fyll.\\n\\xa0\\xa0\\nCrist wæs on rode.\\n\\n\\nHwæðere þær fuse \\xa0\\xa0\\nfeorran cwoman \\nto þam æðelinge. \\xa0\\xa0\\nIc þæt eall beheold.\\n\\n\\nSare ic wæs mid sorgum† gedrefed, \\xa0\\xa0\\nhnag ic hwæðre þam secgum to handa,\\n\\n60\\n\\neaðmod elne mycle.\\n\\xa0\\xa0\\nGenamon hie þær ælmihtigne god,\\nahofon hine of ðam hefian wite. \\xa0\\xa0\\nForleton me þa hilderincas \\nstandan steame bedrifenne; \\xa0\\xa0\\neall ic wæs mid strælum forwundod.\\n\\n\\nAledon hie ðær limwerigne, \\xa0\\xa0\\ngestodon him æt his lices heafdum,\\n\\n\\nbeheoldon hie ðær heofenes dryhten,\\n\\xa0\\xa0\\nond he hine ðær hwile reste,\\n\\n65\\n\\nmeðe æfter ðam miclan gewinne. \\xa0\\xa0\\nOngunnon him þa moldern wyrcan \\nbeornas on banan gesyhðe; \\xa0\\xa0\\ncurfon hie ðæt of beorhtan stane,\\ngesetton hie ðæron sigora wealdend. \\xa0\\xa0\\nOngunnon him þa sorhleoð galan\\nearme on þa æfentide.\\n\\xa0\\xa0\\nÞa hie woldon eft siðian,\\nmeðe fram þam mæran þeodne. \\xa0\\xa0\\nReste he ðær mæte weorode.\\n\\n70\\n\\nHwæðere we ðær greotende† \\xa0\\xa0\\ngode hwile \\nstodon on staðole, \\xa0\\xa0\\nsyððan stefn† up gewat\\nhilderinca. \\xa0\\xa0\\nHræw colode,\\nfæger feorgbold. \\xa0\\xa0\\nÞa us man fyllan ongan \\nealle to eorðan. \\xa0\\xa0\\nÞæt wæs egeslic wyrd!\\n\\n75\\n\\nBedealf us man on deopan seaþe. \\n\\xa0\\xa0\\nHwæðre me þær dryhtnes þegnas,\\nfreondas* gefrunon,†\\ngyredon me† \\xa0\\xa0\\ngolde ond seolfre.\\n\\n\\nNu ðu miht gehyran, \\xa0\\xa0\\nhæleð min se leofa,\\nþæt ic bealuwara weorc \\xa0\\xa0\\ngebiden hæbbe, \\n80\\n\\nsarra sorga. \\xa0\\xa0\\nIs nu sæl cumen\\nþæt me weorðiað \\xa0\\xa0\\nwide ond side\\nmenn ofer moldan, \\xa0\\xa0\\nond eall þeos mære gesceaft,\\ngebiddaþ him to þyssum beacne. \\xa0\\xa0\\nOn me bearn godes \\nþrowode hwile. \\xa0\\xa0\\nForþan ic þrymfæst nu \\n85\\n\\nhlifige under heofenum,\\n\\xa0\\xa0\\nond ic hælan mæg \\næghwylcne anra, \\xa0\\xa0\\nþara þe him bið egesa to me.\\nIu ic wæs geworden \\xa0\\xa0\\nwita heardost,\\nleodum laðost, \\xa0\\xa0\\nærþan ic him lifes weg\\nrihtne gerymde, \\xa0\\xa0\\nreordberendum. \\n90\\n\\nHwæt, me þa geweorðode \\xa0\\xa0\\nwuldres ealdor\\nofer holtwudu†,\\n\\xa0\\xa0\\nheofonrices weard,\\n\\n\\nswylce swa he his modor eac, \\xa0\\xa0\\nMarian sylfe,\\nælmihtig god \\xa0\\xa0\\nfor ealle menn\\ngeweorðode \\xa0\\xa0\\nofer eall wifa cynn. \\n95\\n\\nNu ic þe hate, \\xa0\\xa0\\nhæleð min se leofa,\\nþæt ðu þas gesyhðe \\xa0\\xa0\\nsecge mannum,\\n\\n\\nonwreoh wordum \\xa0\\xa0\\nþæt hit is wuldres beam,\\n\\n\\nse ðe ælmihtig god \\xa0\\xa0\\non þrowode\\nfor mancynnes \\xa0\\xa0\\nmanegum synnum \\n100\\n\\nond Adomes \\xa0\\xa0\\n ealdgewyrhtum.\\n\\n\\nDeað he þær byrigde,\\n\\xa0\\xa0\\nhwæðere eft dryhten aras \\nmid his miclan mihte \\xa0\\xa0\\nmannum to helpe.\\n\\n\\nHe ða on heofenas astag.\\n\\xa0\\xa0\\nHider eft fundaþ\\non þysne middangeard \\xa0\\xa0\\nmancynn secan \\n105\\n\\non domdæge \\xa0\\xa0\\ndryhten sylfa,\\nælmihtig god, \\xa0\\xa0\\nond his englas mid,\\n\\n\\nþæt he þonne wile deman, \\xa0\\xa0\\nse ah domes geweald,\\nanra gehwylcum \\xa0\\xa0\\n swa he him ærur her\\non þyssum lænum \\xa0\\xa0\\n life geearnaþ.\\n\\n110\\n\\nNe mæg þær ænig \\xa0\\xa0\\nunforht wesan\\nfor þam worde \\xa0\\xa0\\n þe se wealdend cwyð.\\n\\n\\nFrineð he for þære mænige \\xa0\\xa0\\nhwær se man sie,\\nse ðe for dryhtnes naman \\xa0\\xa0\\ndeaðes wolde\\nbiteres onbyrigan, \\xa0\\xa0\\nswa he ær on ðam beame dyde.  \\n115\\n\\nAc hie þonne forhtiað,\\n\\xa0\\xa0\\nond fea þencaþ\\nhwæt hie to Criste \\xa0\\xa0\\ncweðan onginnen.\\n\\n\\nNe þearf ðær þonne ænig \\xa0\\xa0\\nanforht† wesan \\nþe him ær in breostum bereð \\xa0\\xa0\\nbeacna selest,\\nac ðurh ða rode sceal \\xa0\\xa0\\nrice gesecan \\n120\\n\\nof eorðwege \\xa0\\xa0\\næghwylc sawl,\\n\\n\\nseo þe mid wealdende \\xa0\\xa0\\nwunian þenceð.\"\\n\\n\\nGebæd ic me þa to þan beame \\xa0\\xa0\\nbliðe mode,\\nelne mycle,\\n\\xa0\\xa0\\nþær ic ana wæs\\nmæte werede.\\n\\xa0\\xa0\\nWæs modsefa \\n125\\n\\nafysed on forðwege, \\xa0\\xa0\\nfeala ealra gebad\\nlangunghwila. \\xa0\\xa0\\nIs me nu lifes hyht\\nþæt ic† þone sigebeam \\xa0\\xa0\\nsecan mote\\nana oftor \\xa0\\xa0\\nþonne ealle men,\\nwell weorþian. \\xa0\\xa0\\nMe is willa to ðam \\n130\\n\\nmycel on mode, \\xa0\\xa0\\nond min mundbyrd is\\ngeriht to þære rode.\\n\\xa0\\xa0\\nNah ic ricra feala\\nfreonda on foldan,\\n\\xa0\\xa0\\nac hie forð heonon\\ngewiton of worulde dreamum, \\xa0\\xa0\\nsohton him wuldres cyning,\\nlifiaþ nu on heofenum \\xa0\\xa0\\nmid heahfædere, \\n135\\n\\nwuniaþ on wuldre, \\xa0\\xa0\\nond ic wene me\\ndaga gehwylce \\xa0\\xa0\\nhwænne me dryhtnes rod,\\nþe ic her on eorðan \\xa0\\xa0\\nær sceawode,\\non þysson lænan \\xa0\\xa0\\nlife gefetige\\nond me þonne gebringe \\xa0\\xa0\\nþær is blis mycel,\\n\\n140\\n\\ndream on heofonum,\\n\\xa0\\xa0\\nþær is dryhtnes folc\\ngeseted to symle,\\n\\xa0\\xa0\\nþær is singal blis,\\nond me† þonne asette \\xa0\\xa0\\nþær ic syþþan mot\\nwunian on wuldre, \\xa0\\xa0\\nwell mid þam halgum\\ndreames brucan.\\n\\xa0\\xa0\\nSi me dryhten freond,\\n\\n145\\n\\nse ðe her on eorþan \\xa0\\xa0\\nær þrowode\\non þam gealgtreowe \\xa0\\xa0\\nfor guman synnum.\\nHe us onlysde \\xa0\\xa0\\nond us lif forgeaf,\\n\\n\\nheofonlicne ham. \\xa0\\xa0\\nHiht wæs geniwad\\nmid bledum ond mid blisse \\xa0\\xa0\\nþam þe þær bryne þolodan.\\n\\n150\\n\\nSe sunu wæs sigorfæst \\xa0\\xa0\\non þam siðfate,*\\nmihtig ond spedig, \\n\\xa0\\xa0\\nþa he mid manigeo com,\\n\\n\\ngasta weorode, \\xa0\\xa0\\non godes rice,\\nanwealda ælmihtig, \\xa0\\xa0\\nenglum to blisse\\nond eallum ðam halgum \\xa0\\xa0\\nþam þe on heofonum ær \\n155\\n\\nwunedon on wuldre,\\n\\xa0\\xa0\\nþa heora wealdend cwom,\\n\\n\\nælmihtig god, \\xa0\\xa0\\nþær his eðel wæs. \\n'"
      ]
     },
     "execution_count": 7,
     "metadata": {},
     "output_type": "execute_result"
    }
   ],
   "source": [
    "get_text_2('http://people.ucalgary.ca/~mmcgilli/ASPR/Mald.html')\n",
    "get_text_2('http://people.ucalgary.ca/~mmcgilli/OEPoetry/Dream.htm')"
   ]
  },
  {
   "cell_type": "markdown",
   "metadata": {},
   "source": [
    "Функция для парсинга ещё одной ссылки с другой структурой html"
   ]
  },
  {
   "cell_type": "code",
   "execution_count": 8,
   "metadata": {},
   "outputs": [],
   "source": [
    "def get_text_3(link):\n",
    "    response = requests.get(link)\n",
    "    html_content = response.text\n",
    "    soup = BeautifulSoup(html_content, 'html.parser')\n",
    "    name = soup.title.string\n",
    "    print(name)\n",
    "    filename = name + '.txt'\n",
    "    html_text = str(soup)\n",
    "    html_text = html_text.replace('<br/>', '\\n')\n",
    "    html_text = html_text.replace('</a>\\n', '</a> ')\n",
    "    html_text = html_text.replace('\\r\\n\\xa0\\xa0\\r\\n', '  ')\n",
    "    soup_text = BeautifulSoup(html_text, 'html.parser')\n",
    "    text = soup_text.text\n",
    "    #для записи в файл\n",
    "    with open(filename, 'w', encoding='utf-8') as f:\n",
    "        f.write(text)\n",
    "    return text"
   ]
  },
  {
   "cell_type": "code",
   "execution_count": 9,
   "metadata": {},
   "outputs": [
    {
     "name": "stdout",
     "output_type": "stream",
     "text": [
      "Judith\n"
     ]
    },
    {
     "data": {
      "text/plain": [
       "'\\n\\nJudith\\n\\n\\nJudith\\nEd. Murray McGillivray. Online Corpus of Old English Poetry (OCOEP). Edition in progress. This file last updated\\r\\n4/3/09.\\n\\ntweode\\ngifena in ðys ginnan grunde. Heo ðar ða gearwe funde\\nmundbyrd æt ðam mæran þeodne, þa heo ahte mæste þearfe,\\nhyldo þæs hehstan deman, þæt he hie wið þæs hehstan brogan\\n\\n5\\n\\ngefriðode, frymða waldend.\\xa0\\xa0\\r\\nHyre ðæs fæder on roderum\\ntorhtmod tiðe gefremede, þe heo\\r\\nahte trumne geleafan\\na to ðam ælmihtigan.  Gefrægen ic ða Holofernus\\nwinhatan wyrcean georne ond eallum wundrum þrymlic\\ngirwan up swæsendo. To ðam het se gumena baldor\\n\\n10\\n\\nealle ða yldestan ðegnas; hie ðæt ofstum miclum\\nræfndon, rondwiggende, comon to ðam rican þeodne\\nferan, folces ræswan.  Þæt wæs þy feorðan dogore\\nþæs ðe Iudith hyne, gleaw on geðonce,\\nides ælfscinu, ærest gesohte.\\n\\n15\\n\\nHie ða to ðam symle sittan eodon,\\nwlance to wingedrince, ealle his weagesiðas,\\nbealde byrnwiggende. Þær wæron bollan steape\\nboren æfter bencum gelome, swylce eac bunan ond orcas\\nfulle fletsittendum; hie þæt fæge þegon,\\n\\n20\\n\\nrofe rondwiggende, þeah ðæs se rica ne wende,\\negesful eorla dryhten. Ða wearð\\r\\nHolofernus,\\ngoldwine gumena, on gytesalum,\\nhloh ond hlydde, hlynede ond dynede,\\nþæt mihten fira bearn feorran gehyran\\n\\n25\\n\\nhu se stiðmoda styrmde ond gylede,\\nmodig ond medugal, manode geneahhe\\nbencsittende þæt hi gebærdon wel.\\nSwa se inwidda ofer ealne dæg\\ndryhtguman sine drencte mid wine,\\n\\n30\\n\\nswiðmod sinces brytta, oðþæt hie on swiman lagon,\\noferdrencte his duguðe ealle, swylce hie wæron deaðe geslegene,\\nagotene goda gehwylces. \\xa0\\xa0\\r\\nSwa het se gumena\\r\\naldor\\nfylgan fletsittendum, oðþæt fira bearnum\\nnealæhte niht seo þystre. Het ða niða geblonden\\n\\n35\\n\\nþa eadigan mægð ofstum fetigan\\nto his bedreste beagum gehlæste,\\nhringum gehrodene. Hie hraðe fremedon,\\nanbyhtscealcas, swa him heora ealdor bebead,\\nbyrnwigena brego, bearhtme stopon\\n\\n40\\n\\nto ðam gysterne, þær hie Iudithðe\\nfundon ferhðgleawe, ond ða fromlice\\nlindwiggende lædan ongunnon\\nþa torhtan mægð to træfe þam hean,\\nþær se rica hyne reste on symbel\\n\\n45\\n\\nnihtes inne, nergende lað,\\nHolofernus. Þær wæs eallgylden\\nfleohnet fæger ymbe þæs folctogan\\nbed\\r\\nahongen, þæt se bealofulla\\nmihte wlitan þurh, wigena baldor,\\n\\n50\\n\\non æghwylcne þe ðær inne com\\nhæleða bearna, ond on hyne nænig\\nmonna cynnes, nymðe se modiga hwæne\\nniðe rofra him þe near hete\\nrinca to rune gegangan. \\xa0\\xa0\\r\\nHie ða on reste gebrohton\\n\\n55\\n\\nsnude ða snoteran idese; eodon ða stercedferhðe,\\nhæleð heora hearran cyðan þæt wæs seo halige meowle\\ngebroht on his burgetelde. Þa wearð se brema on mode\\nbliðe, burga ealdor, þohte ða beorhtan idese\\nmid widle ond mid womme besmitan. Ne wolde þæt wuldres dema\\n\\n60\\n\\ngeðafian, þrymmes hyrde, ac he him þæs ðinges gestyrde,\\ndryhten, dugeða waldend. Gewat ða se deofulcunda,\\ngalferhð gumena ðreate\\r\\n\\xa0\\xa0\\n\\nbealofull his beddes neosan, þær he sceolde his blæd forleosan\\nædre binnan anre nihte; hæfde ða his ende gebidenne\\n\\n65\\n\\non eorðan unswæslicne, swylcne he ær æfter worhte,\\nþearlmod ðeoden gumena, þenden he on ðysse worulde\\nwunode under wolcna hrofe. Gefeol ða wine swa druncen\\nse rica on his reste middan, swa he nyste ræda nanne\\non gewitlocan. Wiggend stopon\\n\\n70\\n\\nut of ðam inne ofstum miclum,\\nweras winsade, þe ðone wærlogan,\\nlaðne leodhatan, læddon to bedde\\nnehstan siðe. Þa wæs nergendes\\nþeowen þrymful, þearle gemyndig\\n\\n75\\n\\nhu heo þone atolan eaðost mihte\\nealdre benæman ær se unsyfra,\\nwomfull, onwoce. Genam ða wundenlocc\\nscyppendes mægð scearpne mece,\\nscurum heardne, ond of sceaðe abræd\\n\\n80\\n\\nswiðran folme. Ongan ða swegles weard\\nbe naman nemnan, nergend ealra\\nworuldbuendra, ond þæt word acwæð:\\n\"Ic ðe, frymða god ond frofre gæst,\\nbearn alwaldan, biddan wylle\\n\\n85\\n\\nmiltse þinre me þearfendre,\\nðrynesse ðrym. Þearle ys me nu ða\\nheorte onhæted ond hige geomor,\\nswyðe mid sorgum gedrefed. Forgif me, swegles ealdor,\\nsigor ond soðne geleafan, þæt ic mid þys sweorde mote\\n\\n90\\n\\ngeheawan þysne morðres bryttan.  Geunne me minra gesynta,\\nþearlmod þeoden gumena. Nahte ic þinre næfre\\nmiltse þon maran þearfe. Gewrec nu, mihtig dryhten,\\ntorhtmod tires brytta, þæt me ys þus torne on mode,\\nhate on hreðre minum.\" Hi ða se hehsta dema\\n\\n95\\n\\nædre mid elne onbryrde, swa he deð\\r\\nanra gehwylcne\\nherbuendra þe hyne him to helpe seceð\\nmid ræde ond mid rihte geleafan. Þa wearð hyre rume on mode,\\nhaligre hyht geniwod.  Genam ða þone hæðenan mannan\\nfæste be feaxe sinum, teah hyne folmum wið hyre weard\\n\\n100\\n\\nbysmerlice, ond þone bealofullan\\nlistum\\r\\nalede,  laðne mannan,\\n\\nswa heo ðæs unlædan eaðost mihte\\nwel gewealdan. Sloh ða wundenlocc\\nþone feondsceaðan fagum mece,\\n\\n\\n105\\n\\nheteþoncolne, þæt heo healfne forcearf\\nþone sweoran him,  þæt he on swiman læg,\\ndruncen ond dolhwund. Næs ða dead þa gyt,\\n\\nealles orsawle.  Sloh ða eornoste\\nides ellenrof oðre siðe\\n\\n110\\n\\nþone hæðenan hund, þæt him þæt heafod wand\\nforð on ða flore. Læg se fula leap\\ngesne beæftan.  Gæst ellor hwearf\\nunder neowelne næs ond ðær genyðerad wæs,\\nsusle gesæled syððan æfre,\\n\\n115\\n\\nwyrmum bewunden, witum gebunden,\\nhearde gehæfted in hellebryne\\næfter hinsiðe.  Ne ðearf he hopian no,\\nþystrum forðylmed, þæt he ðonan mote\\nof ðam wyrmsele, ac ðær wunian sceal\\n\\n120\\n\\nawa to aldre butan ende forð\\nin ðam heolstran ham,  hyhtwynna leas.\\n\\nHæfde ða gefohten foremærne blæd\\nIudith æt guðe, swa hyre god uðe,\\nswegles ealdor,  þe hyre sigores onleah.\\n\\n\\n125\\n\\nÞa seo snotere mægð snude gebrohte\\nþæs herewæðan heafod swa blodig\\non ðam fætelse þe hyre foregenga,\\nblachleor ides,  hyra begea nest,\\nðeawum geðungen, þyder onlædde,\\n\\n\\n130\\n\\nond hit þa swa heolfrig hyre on hond ageaf,\\n\\nhigeðoncolre, ham to berenne,\\nIudith gingran sinre. Eodon ða gegnum þanonne\\nþa idesa ba ellenþriste,\\noðþæt hie becomon, collenferhðe,\\n\\n135\\n\\neadhreðige mægð, ut of ðam herige,\\nþæt hie sweotollice geseon mihten\\nþære wlitegan byrig weallas blican,\\nBethuliam. Hie ða beahhrodene\\nfeðelaste forð onettan,\\n\\n140\\n\\noð hie glædmode gegan hæfdon\\nto ðam wealgate.  Wiggend sæton,\\nweras wæccende wearde heoldon\\nin ðam fæstenne,  swa ðam folce ær\\ngeomormodum Iudith bebead,\\n\\n\\n145\\n\\nsearoðoncol mægð, þa heo on sið gewat,\\n\\nides ellenrof. Wæs ða eft cumen\\nleof to leodum, ond ða lungre het\\ngleawhydig wif gumena sumne\\nof ðære ginnan byrig hyre togeanes gan,\\n\\n150\\n\\nond hi ofostlice in forleton\\nþurh ðæs wealles geat, ond þæt word acwæð\\nto ðam sigefolce:  \"Ic eow secgan mæg\\nþoncwyrðe þing, þæt ge ne þyrfen leng\\nmurnan on mode. Eow ys metod bliðe,\\n\\n155\\n\\ncyninga wuldor:  þæt gecyðed wearð\\ngeond woruld wide,  þæt eow ys wuldorblæd\\ntorhtlic toweard ond tir gifeðe\\nþara læðða þe ge lange drugon.\"\\n\\nÞa wurdon bliðe burhsittende,\\n\\n\\n160\\n\\nsyððan hi gehyrdon hu seo halige spræc\\nofer heanne weall.  Here wæs on lustum.\\nWið þæs fæstengeates folc onette,\\n\\nweras wif somod, wornum ond heapum,\\nðreatum ond ðrymmum þrungon ond urnon\\n\\n165\\n\\nongean ða þeodnes mægð þusendmælum,\\n\\nealde ge geonge. Æghwylcum wearð\\nmen on ðære medobyrig mod areted,\\nsyððan hie ongeaton þæt wæs Iudith cumen\\neft to eðle,  ond ða ofostlice\\n\\n170\\n\\nhie mid eaðmedum in forleton.\\n\\nÞa seo gleawe het,  golde gefrætewod,\\nhyre ðinenne þancolmode\\nþæs herewæðan heafod onwriðan\\nond hyt to behðe blodig ætywan\\n\\n175\\n\\nþam burhleodum, hu hyre æt beaduwe gespeow.\\n\\nSpræc ða seo æðele to eallum þam folce:\\n\\n\"Her ge magon sweotole,  sigerofe hæleð,\\n\\nleoda ræswan, on ðæs laðestan\\nhæðenes heaðorinces heafod starian,\\n\\n180\\n\\nHolofernus unlyfigendes,\\n\\nþe us monna mæst morðra gefremede,\\n\\nsarra sorga,  ond þæt swyðor gyt\\nycan wolde,  ac him ne uðe god\\nlengran lifes,  þæt he mid læððum us\\n\\n185\\n\\neglan moste.  Ic him ealdor oðþrong\\nþurh godes fultum. Nu ic gumena gehwæne\\nþyssa burgleoda biddan wylle,\\n\\nrandwiggendra, þæt ge recene eow\\nfysan to gefeohte. Syððan frymða god,\\n\\n190\\n\\narfæst cyning,  eastan sende\\nleohtne leoman, berað linde forð,\\n\\nbord for breostum ond byrnhomas,\\nscire helmas in sceaðena gemong,\\n\\nfyllan folctogan fagum sweordum,\\n\\n195\\n\\nfæge frumgaras. Fynd syndon eowere\\ngedemed to deaðe, ond ge dom agon,\\ntir æt tohtan, swa eow getacnod hafað\\nmihtig dryhten þurh mine hand.\"\\n\\nÞa wearð snelra werod snude gegearewod,\\n\\n\\n200\\n\\ncenra to campe. Stopon cynerofe\\nsecgas ond gesiðas, bæron sigeþufas,\\nforon to gefeohte forð on gerihte,\\nhæleð under helmum, of ðære haligan byrig\\non ðæt dægred sylf.  Dynedan scildas,\\n\\n205\\n\\nhlude hlummon.  Þæs se hlanca gefeah\\nwulf in walde, ond se wanna hrefn,\\n\\nwælgifre fugel.  Wistan begen\\nþæt him ða þeodguman þohton tilian\\nfylle on fægum; ac him fleah on last\\n\\n210\\n\\nearn ætes georn, urigfeðera,\\nsalowigpada sang hildeleoð,\\nhyrnednebba. Stopon heaðorincas,\\nbeornas to beadowe,  bordum beðeahte,\\n\\nhwealfum lindum,  þa ðe hwile ær\\n\\n215\\n\\nelðeodigra edwit þoledon,\\n\\nhæðenra hosp.  Him þæt hearde wearð\\næt ðam æscplegan eallum forgolden,\\nAssyrium, syððan Ebreas\\nunder guðfanum gegan hæfdon\\n\\n220\\n\\nto ðam fyrdwicum.  Hie ða fromlice\\nleton forð fleogan flana scuras,\\nhildenædran of hornbogan,\\nstrælas stedehearde;  styrmdon hlude\\ngrame guðfrecan,  garas sendon\\n\\n225\\n\\nin heardra gemang.  Hæleð wæron yrre,\\nlandbuende, laðum cynne,\\nstopon styrnmode, stercedferhðe,\\nwrehton unsofte ealdgeniðlan\\nmedowerige; mundum brugdon\\n\\n230\\n\\nscealcas of sceaðum scirmæled swyrd,\\n\\necgum gecoste, slogon eornoste\\nAssiria oretmæcgas,\\nniðhycgende, nanne ne sparedon\\nþæs herefolces, heanne ne ricne,\\n\\n235\\n\\ncwicera manna þe hie ofercuman mihton.\\n\\nSwa ða magoþegnas on ða morgentid\\nehton elðeoda ealle þrage,\\noðþæt ongeaton ða ðe grame wæron,\\nðæs herefolces heafodweardas,\\n\\n240\\n\\nþæt him swyrdgeswing swiðlic eowdon\\nweras Ebrisce.  Hie wordum þæt\\nþam yldestan ealdorþegnum\\ncyðan eodon,  wrehton cumbolwigan\\nond him forhtlice færspel bodedon,\\n\\n\\n245\\n\\nmedowerigum morgencollan,\\natolne ecgplegan.  Þa ic ædre gefrægn\\nslegefæge hæleð slæpe tobredon\\nond wið þæs bealofullan burgeteldes\\nwerigferhðe hwearfum þringan,\\n\\n\\n250\\n\\nHolofernus. \\xa0\\xa0\\r\\nHogedon aninga\\nhyra hlaforde hilde bodian,\\n\\nærðon ðe him se egesa on ufan sæte,\\nmægen Ebrea. Mynton ealle\\nþæt se beorna brego ond seo beorhte mægð\\n\\n255\\n\\nin ðam wlitegan træfe wæron ætsomne,\\n\\nIudith seo æðele ond se galmoda,\\negesfull ond afor.  Næs ðeah eorla nan\\nþe ðone wiggend aweccan dorste\\noððe gecunnian hu ðone cumbolwigan\\n\\n260\\n\\nwið ða halgan mægð hæfde geworden,\\nmetodes meowlan. Mægen nealæhte,\\nfolc Ebrea, fuhton þearle\\nheardum heoruwæpnum, hæfte guldon\\nhyra fyrngeflitu, fagum swyrdum,\\n\\n265\\n\\nealde æfðoncan.  Assyria wearð\\non ðam dægweorce dom geswiðrod,\\n\\nbælc forbiged.  Beornas stodon\\nymbe hyra þeodnes træf þearle gebylde,\\n\\nsweorcendferhðe. \\xa0\\xa0\\r\\nHi ða somod ealle\\n\\n270\\n\\nongunnon cohhetan, cirman hlude\\nond gristbitian, gode orfeorme,\\n\\nmid toðon torn þoligende. Þa wæs hyra tires æt ende,\\neades ond ellendæda. \\xa0\\xa0\\r\\nHogedon þa eorlas aweccan\\nhyra winedryhten;  him wiht ne speow.\\n\\n\\n275\\n\\nÞa wearð sið ond late sum to ðam arod\\nþara beadorinca, þæt he in þæt burgeteld\\nniðheard neðde, swa hyne nyd fordraf.\\nFunde ða on bedde blacne licgan\\nhis goldgifan gæstes gesne,\\n\\n280\\n\\nlifes belidenne.  He þa lungre gefeoll\\nfreorig to foldan, ongan his feax teran,\\nhreoh on mode, ond his hrægl somod,\\nond þæt word acwæð to ðam wiggendum\\nþe ðær unrote ute wæron:\\n\\n\\n285\\n\\n\"Her ys geswutelod ure sylfra forwyrd,\\ntoweard getacnod þæt þære tide ys\\nmid niðum neah geðrungen, þe we sculon nyde losian,\\nsomod æt sæcce forweorðan.  Her lið sweorde geheawen,\\nbeheafdod healdend ure.\"  Hi ða hreowigmode\\n\\n290\\n\\nwurpon hyra wæpen ofdune,  gewitan him werigferhðe\\non fleam sceacan.  Him mon feaht on last,\\n\\nmægeneacen folc,  oð se mæsta dæl\\nþæs heriges læg hilde gesæged\\non ðam sigewonge, sweordum geheawen,\\n\\n\\n295\\n\\nwulfum to willan ond eac wælgifrum\\nfuglum to frofre.  Flugon ða ðe lyfdon,\\nlaðra lindwig. Him on laste for\\nsweot Ebrea sigore geweorðod,\\n\\ndome gedyrsod;  him feng dryhten god\\n\\n300\\n\\nfægre on fultum, frea ælmihtig.\\n\\nHi ða fromlice fagum swyrdum,\\n\\nhæleð higerofe,  herpað worhton\\nþurh laðra gemong,  linde heowon,\\nscildburh scæron. Sceotend wæron\\n\\n305\\n\\nguðe gegremede, guman Ebrisce;\\n\\nþegnas on ða tid þearle gelyste\\ngargewinnes. Þær on greot gefeoll\\nse hyhsta dæl heafodgerimes\\nAssiria ealdorduguðe,\\n\\n310\\n\\nlaðan cynnes. Lythwon becom\\ncwicera to cyððe. Cirdon cynerofe,\\n\\nwiggend on wiðertrod,  wælscel on innan,\\nreocende hræw.  Rum wæs to nimanne\\nlondbuendum on ðam laðestan,\\n\\n315\\n\\nhyra ealdfeondum unlyfigendum\\nheolfrig herereaf,  hyrsta scyne,\\nbord ond bradswyrd, brune helmas,\\n\\ndyre madmas.  Hæfdon domlice\\non ðam folcstede fynd oferwunnen\\n\\n320\\n\\neðelweardas, ealdhettende\\nswyrdum aswefede.  Hie on swaðe reston,\\n\\nþa ðe him to life laðost wæron\\ncwicera cynna.  Þa seo cneoris eall,\\n\\nmægða mærost,  anes monðes fyrst,\\n\\n\\n325\\n\\nwlanc, wundenlocc,  wagon ond læddon\\nto ðære beorhtan byrig,  Bethuliam,\\nhelmas ond hupseax,  hare byrnan,\\n\\nguðsceorp gumena golde gefrætewod,\\n\\nmærra madma þonne mon ænig\\n\\n330\\n\\nasecgan mæge searoþoncelra;\\n\\neal þæt ða ðeodguman þrymme geeodon,\\n\\ncene under cumblum on compwige\\nþurh Iudithe gleawe lare,\\nmægð modigre.  Hi to mede hyre\\n\\n335\\n\\nof ðam siðfate sylfre brohton,\\n\\neorlas æscrofe, Holofernes\\nsweord ond swatigne helm,  swylce eac side byrnan\\ngerenode readum golde,  ond eal þæt se rinca baldor\\nswiðmod sinces ahte oððe sundoryrfes,\\n\\n\\n340\\n\\nbeaga ond beorhtra maðma,  hi þæt þære beorhtan idese\\nageafon gearoþoncolre.  Ealles ðæs Iudith sægde\\nwuldor weroda dryhtne,  þe hyre weorðmynde geaf,\\n\\nmærðe on moldan rice,  swylce eac mede on heofonum,\\n\\nsigorlean in swegles wuldre,  þæs þe heo ahte soðne geleafan\\n\\n345\\n\\nto ðam ælmihtigan;  huru æt þam ende ne tweode\\nþæs leanes þe heo lange gyrnde. Ðæs sy ðam leofan drihtne\\nwuldor to widan aldre,  þe gesceop wind ond lyfte,\\nroderas ond rume grundas, swylce eac reðe streamas\\nond swegles dreamas,  ðurh his sylfes miltse.\\n\\n\\n\\n'"
      ]
     },
     "execution_count": 9,
     "metadata": {},
     "output_type": "execute_result"
    }
   ],
   "source": [
    "get_text_3('http://people.ucalgary.ca/~mmcgilli/ASPR/Jud.html')"
   ]
  },
  {
   "cell_type": "markdown",
   "metadata": {},
   "source": [
    "Добавление текстов, у которых в названии двоеточие (отдельной функцией, чтобы не пересохранять заново остальные тексты)"
   ]
  },
  {
   "cell_type": "code",
   "execution_count": 10,
   "metadata": {},
   "outputs": [],
   "source": [
    "def get_text_4(link):\n",
    "    response = requests.get(link)\n",
    "    html_content = response.text\n",
    "    soup = BeautifulSoup(html_content, 'html.parser')\n",
    "    name = soup.title.string\n",
    "    if ':' in name:\n",
    "        name = name.replace(':', ' -')\n",
    "        filename = name + '.txt'\n",
    "        result = re.search(r'<dl(.|\\n)+</dl>', str(soup))\n",
    "        html_text = result.group(0)\n",
    "        soup_text = BeautifulSoup(html_text, 'html.parser')\n",
    "        text = soup_text.text\n",
    "        #для записи в файл\n",
    "        with open(filename, 'w', encoding='utf-8') as f:\n",
    "            f.write(text)\n",
    "        return text"
   ]
  },
  {
   "cell_type": "code",
   "execution_count": 11,
   "metadata": {},
   "outputs": [
    {
     "name": "stderr",
     "output_type": "stream",
     "text": [
      "<ipython-input-11-3b6fbe568e05>:2: TqdmDeprecationWarning: This function will be removed in tqdm==5.0.0\n",
      "Please use `tqdm.notebook.tqdm` instead of `tqdm.tqdm_notebook`\n",
      "  for link in tqdm(all_links):\n"
     ]
    },
    {
     "data": {
      "application/vnd.jupyter.widget-view+json": {
       "model_id": "15ab9532a3a74e1bb769fb17405e97df",
       "version_major": 2,
       "version_minor": 0
      },
      "text/plain": [
       "HBox(children=(HTML(value=''), FloatProgress(value=0.0, max=1.0), HTML(value='')))"
      ]
     },
     "metadata": {},
     "output_type": "display_data"
    },
    {
     "name": "stdout",
     "output_type": "stream",
     "text": [
      "\n"
     ]
    }
   ],
   "source": [
    "errors = []\n",
    "for link in tqdm(all_links):\n",
    "    try:\n",
    "        get_text_4(link)\n",
    "    except AttributeError:\n",
    "        print(link)\n",
    "        errors.append(link)"
   ]
  }
 ],
 "metadata": {
  "kernelspec": {
   "display_name": "Python 3",
   "language": "python",
   "name": "python3"
  },
  "language_info": {
   "codemirror_mode": {
    "name": "ipython",
    "version": 3
   },
   "file_extension": ".py",
   "mimetype": "text/x-python",
   "name": "python",
   "nbconvert_exporter": "python",
   "pygments_lexer": "ipython3",
   "version": "3.8.2"
  }
 },
 "nbformat": 4,
 "nbformat_minor": 4
}
